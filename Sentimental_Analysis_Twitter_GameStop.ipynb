{
 "cells": [
  {
   "cell_type": "markdown",
   "id": "sunset-folks",
   "metadata": {},
   "source": [
    "# *_Sentimental analysis on GME tweets and relation to GME value_*"
   ]
  },
  {
   "cell_type": "markdown",
   "id": "stock-change",
   "metadata": {},
   "source": [
    "This notebook tests if the emotions of GameStop stock (GME)-related tweets were correlated to the GME value during the GME boom on 28th January 2021.\n",
    "\n",
    "Therefore, we train a model to classify tweets into \"positive\" and \"negative\" based on emotions. <br/> Then we scrape tweets from the 28th January 2021 that contain GME-relevant hashtags. <br/>  Finally, we obtain GME stock market data from 28th January 2021 and graph it against GME tweet emotions."
   ]
  },
  {
   "cell_type": "markdown",
   "id": "ahead-antibody",
   "metadata": {},
   "source": [
    "The model training follows the sentimental analysis tutorial posted here: https://www.digitalocean.com/community/tutorials/how-to-perform-sentiment-analysis-in-python-3-using-the-natural-language-toolkit-nltk"
   ]
  },
  {
   "cell_type": "markdown",
   "id": "4902d0bd",
   "metadata": {},
   "source": [
    "Note: ***this notebook is broken***! Extracting old stock market data is not free - at the point in time when I generated this notebook, I was not able to access the relevant stock market data anymore!"
   ]
  },
  {
   "cell_type": "markdown",
   "id": "corporate-huntington",
   "metadata": {},
   "source": [
    "# Required modules"
   ]
  },
  {
   "cell_type": "code",
   "execution_count": 1,
   "id": "sought-brother",
   "metadata": {},
   "outputs": [],
   "source": [
    "import re, string, random, nltk, json, glob, numpy as np, pandas as pd, yfinance as yf, matplotlib.pyplot as plt\n",
    "\n",
    "from nltk.stem.wordnet import WordNetLemmatizer\n",
    "from nltk.corpus import twitter_samples, stopwords\n",
    "from nltk.tag import pos_tag\n",
    "from nltk.tokenize import word_tokenize\n",
    "from nltk import FreqDist, classify, NaiveBayesClassifier\n",
    "from datetime import datetime"
   ]
  },
  {
   "cell_type": "markdown",
   "id": "present-survivor",
   "metadata": {},
   "source": [
    "# 1. Make a model to classify tweets into \"positive\" and \"negative\" emotions"
   ]
  },
  {
   "cell_type": "markdown",
   "id": "informed-manufacturer",
   "metadata": {},
   "source": [
    "## 1.1 Download  example and denoising data"
   ]
  },
  {
   "cell_type": "code",
   "execution_count": 2,
   "id": "swiss-money",
   "metadata": {},
   "outputs": [
    {
     "name": "stderr",
     "output_type": "stream",
     "text": [
      "[nltk_data] Downloading package twitter_samples to\n",
      "[nltk_data]     /Users/christopherhempel/nltk_data...\n",
      "[nltk_data]   Package twitter_samples is already up-to-date!\n",
      "[nltk_data] Downloading package punkt to\n",
      "[nltk_data]     /Users/christopherhempel/nltk_data...\n",
      "[nltk_data]   Package punkt is already up-to-date!\n",
      "[nltk_data] Downloading package wordnet to\n",
      "[nltk_data]     /Users/christopherhempel/nltk_data...\n",
      "[nltk_data]   Package wordnet is already up-to-date!\n",
      "[nltk_data] Downloading package averaged_perceptron_tagger to\n",
      "[nltk_data]     /Users/christopherhempel/nltk_data...\n",
      "[nltk_data]   Package averaged_perceptron_tagger is already up-to-\n",
      "[nltk_data]       date!\n",
      "[nltk_data] Downloading package stopwords to\n",
      "[nltk_data]     /Users/christopherhempel/nltk_data...\n",
      "[nltk_data]   Package stopwords is already up-to-date!\n"
     ]
    },
    {
     "data": {
      "text/plain": [
       "True"
      ]
     },
     "execution_count": 2,
     "metadata": {},
     "output_type": "execute_result"
    }
   ],
   "source": [
    "nltk.download('twitter_samples')\n",
    "nltk.download('punkt')\n",
    "nltk.download('wordnet')\n",
    "nltk.download('averaged_perceptron_tagger')\n",
    "nltk.download('stopwords')"
   ]
  },
  {
   "cell_type": "markdown",
   "id": "funky-hartford",
   "metadata": {},
   "source": [
    "## 1.2 Define functions"
   ]
  },
  {
   "cell_type": "code",
   "execution_count": 3,
   "id": "eligible-springer",
   "metadata": {},
   "outputs": [],
   "source": [
    "# Remove noise from tweets\n",
    "def remove_noise(tweet_tokens, stop_words = ()):\n",
    "\n",
    "    cleaned_tokens = []\n",
    "\n",
    "    for token, tag in pos_tag(tweet_tokens):\n",
    "        token = re.sub('http[s]?://(?:[a-zA-Z]|[0-9]|[$-_@.&+#]|[!*\\(\\),]|'\\\n",
    "                       '(?:%[0-9a-fA-F][0-9a-fA-F]))+','', token)\n",
    "        token = re.sub(\"(@[A-Za-z0-9_]+)\",\"\", token)\n",
    "\n",
    "        if tag.startswith(\"NN\"):\n",
    "            pos = 'n'\n",
    "        elif tag.startswith('VB'):\n",
    "            pos = 'v'\n",
    "        else:\n",
    "            pos = 'a'\n",
    "\n",
    "        lemmatizer = WordNetLemmatizer()\n",
    "        token = lemmatizer.lemmatize(token, pos)\n",
    "\n",
    "        if len(token) > 0 and token not in string.punctuation and token.lower() not in stop_words:\n",
    "            cleaned_tokens.append(token.lower())\n",
    "    return cleaned_tokens\n",
    "\n",
    "\n",
    "# Get tweets from list for model \n",
    "def get_tweets_for_model(cleaned_tokens_list):\n",
    "    for tweet_tokens in cleaned_tokens_list:\n",
    "        yield dict([token, True] for token in tweet_tokens)"
   ]
  },
  {
   "cell_type": "markdown",
   "id": "neither-mongolia",
   "metadata": {},
   "source": [
    "## 1.3 Load in positive and negative tweet examples and clean data"
   ]
  },
  {
   "cell_type": "code",
   "execution_count": 4,
   "id": "established-throw",
   "metadata": {},
   "outputs": [],
   "source": [
    "positive_tweets = twitter_samples.strings('positive_tweets.json')\n",
    "negative_tweets = twitter_samples.strings('negative_tweets.json')\n",
    "text = twitter_samples.strings('tweets.20150430-223406.json')\n",
    "tweet_tokens = twitter_samples.tokenized('positive_tweets.json')[0]\n",
    "\n",
    "stop_words = stopwords.words('english')\n",
    "\n",
    "positive_tweet_tokens = twitter_samples.tokenized('positive_tweets.json')\n",
    "negative_tweet_tokens = twitter_samples.tokenized('negative_tweets.json')\n",
    "\n",
    "positive_cleaned_tokens_list = []\n",
    "negative_cleaned_tokens_list = []\n",
    "\n",
    "for tokens in positive_tweet_tokens:\n",
    "    positive_cleaned_tokens_list.append(remove_noise(tokens, stop_words))\n",
    "\n",
    "for tokens in negative_tweet_tokens:\n",
    "    negative_cleaned_tokens_list.append(remove_noise(tokens, stop_words))\n",
    "\n",
    "positive_tokens_for_model = get_tweets_for_model(positive_cleaned_tokens_list)\n",
    "negative_tokens_for_model = get_tweets_for_model(negative_cleaned_tokens_list)\n",
    "\n",
    "positive_dataset = [(tweet_dict, \"Positive\")\n",
    "                     for tweet_dict in positive_tokens_for_model]\n",
    "\n",
    "negative_dataset = [(tweet_dict, \"Negative\")\n",
    "                     for tweet_dict in negative_tokens_for_model]\n",
    "\n",
    "dataset = positive_dataset + negative_dataset"
   ]
  },
  {
   "cell_type": "markdown",
   "id": "recorded-module",
   "metadata": {},
   "source": [
    "## 1.4 Train Naive Bayes classifier model "
   ]
  },
  {
   "cell_type": "code",
   "execution_count": 5,
   "id": "australian-former",
   "metadata": {},
   "outputs": [
    {
     "name": "stdout",
     "output_type": "stream",
     "text": [
      "Naive Bayes classifier model accuracy is: 0.9953333333333333\n",
      "Most Informative Features\n",
      "                      :( = True           Negati : Positi =   2086.7 : 1.0\n",
      "                      :) = True           Positi : Negati =   1647.2 : 1.0\n",
      "                     sad = True           Negati : Positi =     34.1 : 1.0\n",
      "                     bam = True           Positi : Negati =     22.1 : 1.0\n",
      "                follower = True           Positi : Negati =     19.6 : 1.0\n",
      "                     x15 = True           Negati : Positi =     17.8 : 1.0\n",
      "               community = True           Positi : Negati =     14.9 : 1.0\n",
      "                  arrive = True           Positi : Negati =     12.6 : 1.0\n",
      "                followed = True           Negati : Positi =     11.7 : 1.0\n",
      "               goodnight = True           Positi : Negati =     11.6 : 1.0\n",
      "None\n"
     ]
    }
   ],
   "source": [
    "random.shuffle(dataset)\n",
    "\n",
    "train_data = dataset[:7000]\n",
    "test_data = dataset[7000:]\n",
    "\n",
    "classifier = NaiveBayesClassifier.train(train_data)\n",
    "\n",
    "print(\"Naive Bayes classifier model accuracy is:\", classify.accuracy(classifier, test_data))\n",
    "\n",
    "print(classifier.show_most_informative_features(10))"
   ]
  },
  {
   "cell_type": "markdown",
   "id": "therapeutic-amber",
   "metadata": {},
   "source": [
    "# 1.5 Test classification on custom example tweet"
   ]
  },
  {
   "cell_type": "code",
   "execution_count": 6,
   "id": "continuous-birmingham",
   "metadata": {},
   "outputs": [
    {
     "name": "stdout",
     "output_type": "stream",
     "text": [
      "Custom tweet:  I ordered just once from TerribleCo, they screwed up, never used the app again.\n",
      "Classification:  Negative\n"
     ]
    }
   ],
   "source": [
    "custom_tweet = \"I ordered just once from TerribleCo, they screwed up, never used the app again.\"\n",
    "\n",
    "custom_tokens = remove_noise(word_tokenize(custom_tweet))\n",
    "\n",
    "print(\"Custom tweet: \", custom_tweet)\n",
    "print(\"Classification: \", classifier.classify(dict([token, True] for token in custom_tokens)))"
   ]
  },
  {
   "cell_type": "markdown",
   "id": "optimum-multimedia",
   "metadata": {},
   "source": [
    "# 2. Scrape and classify GME tweets from 28th January 2021"
   ]
  },
  {
   "cell_type": "markdown",
   "id": "adjustable-allocation",
   "metadata": {},
   "source": [
    "## 2.1 Use APIFY (web scraping platform) to scrape tweets using GME-relevant hashtags into JSON files and save JSON files to working directory"
   ]
  },
  {
   "cell_type": "markdown",
   "id": "cardiovascular-economics",
   "metadata": {},
   "source": [
    "Note: we did the scraping and the resulting JSON files are saved to the directory containing this Jupyter Notebook.\n",
    "We scraped for tweets from 28th January 2021 containing the hashtags \"gamestop\", \"gme\", \"robinhood\", \"shortsqueeze\", and \"wallstreetbets\"."
   ]
  },
  {
   "cell_type": "markdown",
   "id": "assured-purple",
   "metadata": {},
   "source": [
    "## 2.2 Import and clean scraped tweets"
   ]
  },
  {
   "cell_type": "code",
   "execution_count": 7,
   "id": "identified-bread",
   "metadata": {},
   "outputs": [
    {
     "name": "stdout",
     "output_type": "stream",
     "text": [
      "Total number of tweets:  1954\n"
     ]
    }
   ],
   "source": [
    "json_files = glob.glob(\"*.json\")\n",
    "twitter_files = np.zeros(len(json_files))\n",
    "\n",
    "tweetsdict = [dict() for x in range(len(json_files))]\n",
    "\n",
    "i = 0\n",
    "for file in json_files:\n",
    "  with open(file) as f:\n",
    "    tweets = json.load(f)\n",
    "    tweetsdict[i] = tweets\n",
    "    i += 1\n",
    "\n",
    "gme_tweets = []\n",
    "for tweets in tweetsdict:\n",
    "  for tweet in tweets:\n",
    "    gme_tweets.append(tweet['full_text'])\n",
    "    \n",
    "print(\"Total number of tweets: \", len(gme_tweets))"
   ]
  },
  {
   "cell_type": "markdown",
   "id": "concerned-perception",
   "metadata": {},
   "source": [
    "## 2.3 Classify tweets and define ratio positive:negative tweets"
   ]
  },
  {
   "cell_type": "code",
   "execution_count": 8,
   "id": "hybrid-third",
   "metadata": {},
   "outputs": [
    {
     "name": "stdout",
     "output_type": "stream",
     "text": [
      "Ratio positive:negative tweets: 1.1147186147186148\n"
     ]
    }
   ],
   "source": [
    "tweet_classification=[]\n",
    "for tweet in gme_tweets:\n",
    "  tokens=remove_noise(word_tokenize(tweet))\n",
    "  tweet_classification.append(classifier.classify(dict([token, True] for token in tokens)))\n",
    "    \n",
    "ratio_pos_neg=tweet_classification.count('Positive')/tweet_classification.count('Negative')\n",
    "\n",
    "print(f\"Ratio positive:negative tweets: {ratio_pos_neg}\")"
   ]
  },
  {
   "cell_type": "markdown",
   "id": "empty-colorado",
   "metadata": {},
   "source": [
    "# 3. Obtain GME stock market data from 28th January 2021 and graph it against GME tweet emotions"
   ]
  },
  {
   "cell_type": "markdown",
   "id": "absolute-order",
   "metadata": {},
   "source": [
    "## 3.1 Download GME stock data"
   ]
  },
  {
   "cell_type": "markdown",
   "id": "47eb6cc9",
   "metadata": {},
   "source": [
    "Note: the selected time frame is not the time frame in which the GME boom occurred - this data was not freely available anymore."
   ]
  },
  {
   "cell_type": "code",
   "execution_count": 7,
   "id": "atmospheric-focus",
   "metadata": {},
   "outputs": [
    {
     "ename": "JSONDecodeError",
     "evalue": "[Errno Expecting value] Forbidden: 0",
     "output_type": "error",
     "traceback": [
      "\u001b[0;31m---------------------------------------------------------------------------\u001b[0m",
      "\u001b[0;31mJSONDecodeError\u001b[0m                           Traceback (most recent call last)",
      "\u001b[0;32m/opt/anaconda3/lib/python3.7/site-packages/requests/models.py\u001b[0m in \u001b[0;36mjson\u001b[0;34m(self, **kwargs)\u001b[0m\n\u001b[1;32m    909\u001b[0m         \u001b[0;32mtry\u001b[0m\u001b[0;34m:\u001b[0m\u001b[0;34m\u001b[0m\u001b[0;34m\u001b[0m\u001b[0m\n\u001b[0;32m--> 910\u001b[0;31m             \u001b[0;32mreturn\u001b[0m \u001b[0mcomplexjson\u001b[0m\u001b[0;34m.\u001b[0m\u001b[0mloads\u001b[0m\u001b[0;34m(\u001b[0m\u001b[0mself\u001b[0m\u001b[0;34m.\u001b[0m\u001b[0mtext\u001b[0m\u001b[0;34m,\u001b[0m \u001b[0;34m**\u001b[0m\u001b[0mkwargs\u001b[0m\u001b[0;34m)\u001b[0m\u001b[0;34m\u001b[0m\u001b[0;34m\u001b[0m\u001b[0m\n\u001b[0m\u001b[1;32m    911\u001b[0m         \u001b[0;32mexcept\u001b[0m \u001b[0mJSONDecodeError\u001b[0m \u001b[0;32mas\u001b[0m \u001b[0me\u001b[0m\u001b[0;34m:\u001b[0m\u001b[0;34m\u001b[0m\u001b[0;34m\u001b[0m\u001b[0m\n",
      "\u001b[0;32m/opt/anaconda3/lib/python3.7/json/__init__.py\u001b[0m in \u001b[0;36mloads\u001b[0;34m(s, encoding, cls, object_hook, parse_float, parse_int, parse_constant, object_pairs_hook, **kw)\u001b[0m\n\u001b[1;32m    347\u001b[0m             parse_constant is None and object_pairs_hook is None and not kw):\n\u001b[0;32m--> 348\u001b[0;31m         \u001b[0;32mreturn\u001b[0m \u001b[0m_default_decoder\u001b[0m\u001b[0;34m.\u001b[0m\u001b[0mdecode\u001b[0m\u001b[0;34m(\u001b[0m\u001b[0ms\u001b[0m\u001b[0;34m)\u001b[0m\u001b[0;34m\u001b[0m\u001b[0;34m\u001b[0m\u001b[0m\n\u001b[0m\u001b[1;32m    349\u001b[0m     \u001b[0;32mif\u001b[0m \u001b[0mcls\u001b[0m \u001b[0;32mis\u001b[0m \u001b[0;32mNone\u001b[0m\u001b[0;34m:\u001b[0m\u001b[0;34m\u001b[0m\u001b[0;34m\u001b[0m\u001b[0m\n",
      "\u001b[0;32m/opt/anaconda3/lib/python3.7/json/decoder.py\u001b[0m in \u001b[0;36mdecode\u001b[0;34m(self, s, _w)\u001b[0m\n\u001b[1;32m    336\u001b[0m         \"\"\"\n\u001b[0;32m--> 337\u001b[0;31m         \u001b[0mobj\u001b[0m\u001b[0;34m,\u001b[0m \u001b[0mend\u001b[0m \u001b[0;34m=\u001b[0m \u001b[0mself\u001b[0m\u001b[0;34m.\u001b[0m\u001b[0mraw_decode\u001b[0m\u001b[0;34m(\u001b[0m\u001b[0ms\u001b[0m\u001b[0;34m,\u001b[0m \u001b[0midx\u001b[0m\u001b[0;34m=\u001b[0m\u001b[0m_w\u001b[0m\u001b[0;34m(\u001b[0m\u001b[0ms\u001b[0m\u001b[0;34m,\u001b[0m \u001b[0;36m0\u001b[0m\u001b[0;34m)\u001b[0m\u001b[0;34m.\u001b[0m\u001b[0mend\u001b[0m\u001b[0;34m(\u001b[0m\u001b[0;34m)\u001b[0m\u001b[0;34m)\u001b[0m\u001b[0;34m\u001b[0m\u001b[0;34m\u001b[0m\u001b[0m\n\u001b[0m\u001b[1;32m    338\u001b[0m         \u001b[0mend\u001b[0m \u001b[0;34m=\u001b[0m \u001b[0m_w\u001b[0m\u001b[0;34m(\u001b[0m\u001b[0ms\u001b[0m\u001b[0;34m,\u001b[0m \u001b[0mend\u001b[0m\u001b[0;34m)\u001b[0m\u001b[0;34m.\u001b[0m\u001b[0mend\u001b[0m\u001b[0;34m(\u001b[0m\u001b[0;34m)\u001b[0m\u001b[0;34m\u001b[0m\u001b[0;34m\u001b[0m\u001b[0m\n",
      "\u001b[0;32m/opt/anaconda3/lib/python3.7/json/decoder.py\u001b[0m in \u001b[0;36mraw_decode\u001b[0;34m(self, s, idx)\u001b[0m\n\u001b[1;32m    354\u001b[0m         \u001b[0;32mexcept\u001b[0m \u001b[0mStopIteration\u001b[0m \u001b[0;32mas\u001b[0m \u001b[0merr\u001b[0m\u001b[0;34m:\u001b[0m\u001b[0;34m\u001b[0m\u001b[0;34m\u001b[0m\u001b[0m\n\u001b[0;32m--> 355\u001b[0;31m             \u001b[0;32mraise\u001b[0m \u001b[0mJSONDecodeError\u001b[0m\u001b[0;34m(\u001b[0m\u001b[0;34m\"Expecting value\"\u001b[0m\u001b[0;34m,\u001b[0m \u001b[0ms\u001b[0m\u001b[0;34m,\u001b[0m \u001b[0merr\u001b[0m\u001b[0;34m.\u001b[0m\u001b[0mvalue\u001b[0m\u001b[0;34m)\u001b[0m \u001b[0;32mfrom\u001b[0m \u001b[0;32mNone\u001b[0m\u001b[0;34m\u001b[0m\u001b[0;34m\u001b[0m\u001b[0m\n\u001b[0m\u001b[1;32m    356\u001b[0m         \u001b[0;32mreturn\u001b[0m \u001b[0mobj\u001b[0m\u001b[0;34m,\u001b[0m \u001b[0mend\u001b[0m\u001b[0;34m\u001b[0m\u001b[0;34m\u001b[0m\u001b[0m\n",
      "\u001b[0;31mJSONDecodeError\u001b[0m: Expecting value: line 1 column 1 (char 0)",
      "\nDuring handling of the above exception, another exception occurred:\n",
      "\u001b[0;31mJSONDecodeError\u001b[0m                           Traceback (most recent call last)",
      "\u001b[0;32m/var/folders/c7/n28gmdp97zx40yg1btx05y8w0000gn/T/ipykernel_67014/415451376.py\u001b[0m in \u001b[0;36m<module>\u001b[0;34m\u001b[0m\n\u001b[1;32m      6\u001b[0m \u001b[0;34m\u001b[0m\u001b[0m\n\u001b[1;32m      7\u001b[0m \u001b[0;31m# Get historical prices for this ticker\u001b[0m\u001b[0;34m\u001b[0m\u001b[0;34m\u001b[0m\u001b[0;34m\u001b[0m\u001b[0m\n\u001b[0;32m----> 8\u001b[0;31m \u001b[0mtickerDf\u001b[0m \u001b[0;34m=\u001b[0m \u001b[0mtickerData\u001b[0m\u001b[0;34m.\u001b[0m\u001b[0mhistory\u001b[0m\u001b[0;34m(\u001b[0m\u001b[0mperiod\u001b[0m\u001b[0;34m=\u001b[0m\u001b[0;34m'1d'\u001b[0m\u001b[0;34m,\u001b[0m \u001b[0minterval\u001b[0m\u001b[0;34m=\u001b[0m\u001b[0;34m'15m'\u001b[0m\u001b[0;34m,\u001b[0m \u001b[0mstart\u001b[0m\u001b[0;34m=\u001b[0m\u001b[0;34m'2022-01-10'\u001b[0m\u001b[0;34m,\u001b[0m \u001b[0mend\u001b[0m\u001b[0;34m=\u001b[0m\u001b[0;34m'2022-01-30'\u001b[0m\u001b[0;34m)\u001b[0m\u001b[0;34m\u001b[0m\u001b[0;34m\u001b[0m\u001b[0m\n\u001b[0m\u001b[1;32m      9\u001b[0m \u001b[0;34m\u001b[0m\u001b[0m\n\u001b[1;32m     10\u001b[0m \u001b[0;31m#see your data\u001b[0m\u001b[0;34m\u001b[0m\u001b[0;34m\u001b[0m\u001b[0;34m\u001b[0m\u001b[0m\n",
      "\u001b[0;32m/opt/anaconda3/lib/python3.7/site-packages/yfinance/base.py\u001b[0m in \u001b[0;36mhistory\u001b[0;34m(self, period, interval, start, end, prepost, actions, auto_adjust, back_adjust, proxy, rounding, tz, **kwargs)\u001b[0m\n\u001b[1;32m    155\u001b[0m                                \u001b[0;34m\"Our engineers are working quickly to resolve \"\u001b[0m\u001b[0;34m\u001b[0m\u001b[0;34m\u001b[0m\u001b[0m\n\u001b[1;32m    156\u001b[0m                                \"the issue. Thank you for your patience.\")\n\u001b[0;32m--> 157\u001b[0;31m         \u001b[0mdata\u001b[0m \u001b[0;34m=\u001b[0m \u001b[0mdata\u001b[0m\u001b[0;34m.\u001b[0m\u001b[0mjson\u001b[0m\u001b[0;34m(\u001b[0m\u001b[0;34m)\u001b[0m\u001b[0;34m\u001b[0m\u001b[0;34m\u001b[0m\u001b[0m\n\u001b[0m\u001b[1;32m    158\u001b[0m \u001b[0;34m\u001b[0m\u001b[0m\n\u001b[1;32m    159\u001b[0m         \u001b[0;31m# Work with errors\u001b[0m\u001b[0;34m\u001b[0m\u001b[0;34m\u001b[0m\u001b[0;34m\u001b[0m\u001b[0m\n",
      "\u001b[0;32m/opt/anaconda3/lib/python3.7/site-packages/requests/models.py\u001b[0m in \u001b[0;36mjson\u001b[0;34m(self, **kwargs)\u001b[0m\n\u001b[1;32m    915\u001b[0m                 \u001b[0;32mraise\u001b[0m \u001b[0mRequestsJSONDecodeError\u001b[0m\u001b[0;34m(\u001b[0m\u001b[0me\u001b[0m\u001b[0;34m.\u001b[0m\u001b[0mmessage\u001b[0m\u001b[0;34m)\u001b[0m\u001b[0;34m\u001b[0m\u001b[0;34m\u001b[0m\u001b[0m\n\u001b[1;32m    916\u001b[0m             \u001b[0;32melse\u001b[0m\u001b[0;34m:\u001b[0m\u001b[0;34m\u001b[0m\u001b[0;34m\u001b[0m\u001b[0m\n\u001b[0;32m--> 917\u001b[0;31m                 \u001b[0;32mraise\u001b[0m \u001b[0mRequestsJSONDecodeError\u001b[0m\u001b[0;34m(\u001b[0m\u001b[0me\u001b[0m\u001b[0;34m.\u001b[0m\u001b[0mmsg\u001b[0m\u001b[0;34m,\u001b[0m \u001b[0me\u001b[0m\u001b[0;34m.\u001b[0m\u001b[0mdoc\u001b[0m\u001b[0;34m,\u001b[0m \u001b[0me\u001b[0m\u001b[0;34m.\u001b[0m\u001b[0mpos\u001b[0m\u001b[0;34m)\u001b[0m\u001b[0;34m\u001b[0m\u001b[0;34m\u001b[0m\u001b[0m\n\u001b[0m\u001b[1;32m    918\u001b[0m \u001b[0;34m\u001b[0m\u001b[0m\n\u001b[1;32m    919\u001b[0m     \u001b[0;34m@\u001b[0m\u001b[0mproperty\u001b[0m\u001b[0;34m\u001b[0m\u001b[0;34m\u001b[0m\u001b[0m\n",
      "\u001b[0;31mJSONDecodeError\u001b[0m: [Errno Expecting value] Forbidden: 0"
     ]
    }
   ],
   "source": [
    "# Define the ticker symbol\n",
    "tickerSymbol = 'GME'\n",
    "\n",
    "# Get data on this ticker\n",
    "tickerData = yf.Ticker(tickerSymbol)\n",
    "\n",
    "# Get historical prices for this ticker\n",
    "tickerDf = tickerData.history(period='1d', interval='15m', start='2022-01-10', end='2022-01-30')\n",
    "\n",
    "#see your data\n",
    "tickerDf.head()"
   ]
  },
  {
   "cell_type": "markdown",
   "id": "disciplinary-craps",
   "metadata": {},
   "source": [
    "## 3.2 Simulate volume of stock dataset"
   ]
  },
  {
   "cell_type": "markdown",
   "id": "57864557",
   "metadata": {},
   "source": [
    "Note: we simulate stock dataset volume for the GME boom time frame."
   ]
  },
  {
   "cell_type": "code",
   "execution_count": 10,
   "id": "superior-circus",
   "metadata": {},
   "outputs": [
    {
     "data": {
      "text/html": [
       "<div>\n",
       "<style scoped>\n",
       "    .dataframe tbody tr th:only-of-type {\n",
       "        vertical-align: middle;\n",
       "    }\n",
       "\n",
       "    .dataframe tbody tr th {\n",
       "        vertical-align: top;\n",
       "    }\n",
       "\n",
       "    .dataframe thead th {\n",
       "        text-align: right;\n",
       "    }\n",
       "</style>\n",
       "<table border=\"1\" class=\"dataframe\">\n",
       "  <thead>\n",
       "    <tr style=\"text-align: right;\">\n",
       "      <th></th>\n",
       "      <th>volume</th>\n",
       "    </tr>\n",
       "    <tr>\n",
       "      <th>time</th>\n",
       "      <th></th>\n",
       "    </tr>\n",
       "  </thead>\n",
       "  <tbody>\n",
       "    <tr>\n",
       "      <th>2021-01-27 00:00:00</th>\n",
       "      <td>7811437</td>\n",
       "    </tr>\n",
       "    <tr>\n",
       "      <th>2021-01-27 00:15:00</th>\n",
       "      <td>3763384</td>\n",
       "    </tr>\n",
       "    <tr>\n",
       "      <th>2021-01-27 00:30:00</th>\n",
       "      <td>9758962</td>\n",
       "    </tr>\n",
       "    <tr>\n",
       "      <th>2021-01-27 00:45:00</th>\n",
       "      <td>1428143</td>\n",
       "    </tr>\n",
       "    <tr>\n",
       "      <th>2021-01-27 01:00:00</th>\n",
       "      <td>9009122</td>\n",
       "    </tr>\n",
       "  </tbody>\n",
       "</table>\n",
       "</div>"
      ],
      "text/plain": [
       "                      volume\n",
       "time                        \n",
       "2021-01-27 00:00:00  7811437\n",
       "2021-01-27 00:15:00  3763384\n",
       "2021-01-27 00:30:00  9758962\n",
       "2021-01-27 00:45:00  1428143\n",
       "2021-01-27 01:00:00  9009122"
      ]
     },
     "execution_count": 10,
     "metadata": {},
     "output_type": "execute_result"
    }
   ],
   "source": [
    "time = pd.date_range(\"2021-01-27\", periods=1200, freq=\"15T\")\n",
    "random_volume = random.sample(range(1000000, 9999999), 1200)\n",
    "volume_df = pd.DataFrame({'time':time, 'volume':random_volume}).set_index('time')\n",
    "volume_df.head()"
   ]
  },
  {
   "cell_type": "markdown",
   "id": "incoming-examination",
   "metadata": {},
   "source": [
    "## 3.3 Process tweet date and time"
   ]
  },
  {
   "cell_type": "markdown",
   "id": "25c672a7",
   "metadata": {},
   "source": [
    "Note: this needs to be polished to accurately reflect times of the web-scraped tweets."
   ]
  },
  {
   "cell_type": "code",
   "execution_count": 11,
   "id": "incredible-candy",
   "metadata": {},
   "outputs": [
    {
     "data": {
      "text/html": [
       "<div>\n",
       "<style scoped>\n",
       "    .dataframe tbody tr th:only-of-type {\n",
       "        vertical-align: middle;\n",
       "    }\n",
       "\n",
       "    .dataframe tbody tr th {\n",
       "        vertical-align: top;\n",
       "    }\n",
       "\n",
       "    .dataframe thead th {\n",
       "        text-align: right;\n",
       "    }\n",
       "</style>\n",
       "<table border=\"1\" class=\"dataframe\">\n",
       "  <thead>\n",
       "    <tr style=\"text-align: right;\">\n",
       "      <th></th>\n",
       "      <th>class_Negative</th>\n",
       "      <th>class_Positive</th>\n",
       "    </tr>\n",
       "    <tr>\n",
       "      <th>time</th>\n",
       "      <th></th>\n",
       "      <th></th>\n",
       "    </tr>\n",
       "  </thead>\n",
       "  <tbody>\n",
       "    <tr>\n",
       "      <th>2021-01-27 19:45:00</th>\n",
       "      <td>1</td>\n",
       "      <td>0</td>\n",
       "    </tr>\n",
       "    <tr>\n",
       "      <th>2021-01-27 22:45:00</th>\n",
       "      <td>1</td>\n",
       "      <td>0</td>\n",
       "    </tr>\n",
       "    <tr>\n",
       "      <th>2021-01-28 00:15:00</th>\n",
       "      <td>1</td>\n",
       "      <td>0</td>\n",
       "    </tr>\n",
       "    <tr>\n",
       "      <th>2021-01-28 01:15:00</th>\n",
       "      <td>1</td>\n",
       "      <td>0</td>\n",
       "    </tr>\n",
       "    <tr>\n",
       "      <th>2021-01-28 02:15:00</th>\n",
       "      <td>1</td>\n",
       "      <td>1</td>\n",
       "    </tr>\n",
       "  </tbody>\n",
       "</table>\n",
       "</div>"
      ],
      "text/plain": [
       "                     class_Negative  class_Positive\n",
       "time                                               \n",
       "2021-01-27 19:45:00               1               0\n",
       "2021-01-27 22:45:00               1               0\n",
       "2021-01-28 00:15:00               1               0\n",
       "2021-01-28 01:15:00               1               0\n",
       "2021-01-28 02:15:00               1               1"
      ]
     },
     "execution_count": 11,
     "metadata": {},
     "output_type": "execute_result"
    }
   ],
   "source": [
    "# Get times per tweet and make dataframe with times and classifications\n",
    "\n",
    "tweet_times = []\n",
    "for tweets in tweetsdict:\n",
    "  for tweet in tweets:\n",
    "    time=datetime.strptime(tweet['created_at'][2:19].replace(\"T\", \" \"), '%y-%m-%d %H:%M:%S')\n",
    "    tweet_times.append(time)\n",
    "\n",
    "tweet_df = pd.DataFrame({'time':tweet_times, 'class':tweet_classification}).set_index('time')\n",
    "\n",
    "tweet_df_counts = pd.get_dummies(tweet_df, columns=['class']).resample('15T').sum()\n",
    "\n",
    "tweet_df_counts_clean = tweet_df_counts[(tweet_df_counts.T != 0).any()]\n",
    "\n",
    "tweet_df_counts_clean.head()"
   ]
  },
  {
   "cell_type": "markdown",
   "id": "governmental-variety",
   "metadata": {},
   "source": [
    "## 3.4 Merge stock data and tweet data"
   ]
  },
  {
   "cell_type": "code",
   "execution_count": 12,
   "id": "authorized-smile",
   "metadata": {},
   "outputs": [
    {
     "data": {
      "text/html": [
       "<div>\n",
       "<style scoped>\n",
       "    .dataframe tbody tr th:only-of-type {\n",
       "        vertical-align: middle;\n",
       "    }\n",
       "\n",
       "    .dataframe tbody tr th {\n",
       "        vertical-align: top;\n",
       "    }\n",
       "\n",
       "    .dataframe thead th {\n",
       "        text-align: right;\n",
       "    }\n",
       "</style>\n",
       "<table border=\"1\" class=\"dataframe\">\n",
       "  <thead>\n",
       "    <tr style=\"text-align: right;\">\n",
       "      <th></th>\n",
       "      <th>time</th>\n",
       "      <th>class_Negative</th>\n",
       "      <th>class_Positive</th>\n",
       "      <th>volume</th>\n",
       "    </tr>\n",
       "  </thead>\n",
       "  <tbody>\n",
       "    <tr>\n",
       "      <th>0</th>\n",
       "      <td>2021-01-27 19:45:00</td>\n",
       "      <td>1</td>\n",
       "      <td>0</td>\n",
       "      <td>2233097</td>\n",
       "    </tr>\n",
       "    <tr>\n",
       "      <th>1</th>\n",
       "      <td>2021-01-27 22:45:00</td>\n",
       "      <td>1</td>\n",
       "      <td>0</td>\n",
       "      <td>5867387</td>\n",
       "    </tr>\n",
       "    <tr>\n",
       "      <th>2</th>\n",
       "      <td>2021-01-28 00:15:00</td>\n",
       "      <td>1</td>\n",
       "      <td>0</td>\n",
       "      <td>2700942</td>\n",
       "    </tr>\n",
       "    <tr>\n",
       "      <th>3</th>\n",
       "      <td>2021-01-28 01:15:00</td>\n",
       "      <td>1</td>\n",
       "      <td>0</td>\n",
       "      <td>3497245</td>\n",
       "    </tr>\n",
       "    <tr>\n",
       "      <th>4</th>\n",
       "      <td>2021-01-28 02:15:00</td>\n",
       "      <td>1</td>\n",
       "      <td>1</td>\n",
       "      <td>1968285</td>\n",
       "    </tr>\n",
       "  </tbody>\n",
       "</table>\n",
       "</div>"
      ],
      "text/plain": [
       "                 time  class_Negative  class_Positive   volume\n",
       "0 2021-01-27 19:45:00               1               0  2233097\n",
       "1 2021-01-27 22:45:00               1               0  5867387\n",
       "2 2021-01-28 00:15:00               1               0  2700942\n",
       "3 2021-01-28 01:15:00               1               0  3497245\n",
       "4 2021-01-28 02:15:00               1               1  1968285"
      ]
     },
     "execution_count": 12,
     "metadata": {},
     "output_type": "execute_result"
    }
   ],
   "source": [
    "mergedDf = tweet_df_counts_clean.merge(volume_df, left_index=True, right_index=True).reset_index()\n",
    "mergedDf.head()"
   ]
  },
  {
   "cell_type": "markdown",
   "id": "banned-stranger",
   "metadata": {},
   "source": [
    "## 3.5 Plot volume against positive and negative tweets"
   ]
  },
  {
   "cell_type": "markdown",
   "id": "3401558d",
   "metadata": {},
   "source": [
    "Note: this graph is made from simulated data, so it doesn't make sense."
   ]
  },
  {
   "cell_type": "code",
   "execution_count": 21,
   "id": "genetic-protest",
   "metadata": {},
   "outputs": [
    {
     "data": {
      "image/png": "[encoded data removed]",
      "text/plain": [
       "<Figure size 432x288 with 2 Axes>"
      ]
     },
     "metadata": {
      "needs_background": "light"
     },
     "output_type": "display_data"
    }
   ],
   "source": [
    "fig, ax1 = plt.subplots()\n",
    "\n",
    "ax1.set_xlabel('Date')\n",
    "ax1.set_ylabel('# positive/negative')\n",
    "ax1.plot(mergedDf[\"time\"], mergedDf[\"class_Negative\"], color='tab:red')\n",
    "ax1.plot(mergedDf[\"time\"], mergedDf[\"class_Positive\"], color='tab:blue')\n",
    "\n",
    "ax2 = ax1.twinx() # instantiate a second axis that shares the same x-axis\n",
    "\n",
    "ax2.set_ylabel('Volume')\n",
    "ax2.plot(mergedDf[\"time\"], mergedDf[\"volume\"], color='tab:green')\n",
    "\n",
    "fig.tight_layout() # otherwise the right y-label is slightly clipped\n",
    "fig.autofmt_xdate() # automatically rotates x axis labels\n",
    "fig.savefig(\"figure.png\", facecolor='white')"
   ]
  }
 ],
 "metadata": {
  "kernelspec": {
   "display_name": "Python 3 (ipykernel)",
   "language": "python",
   "name": "python3"
  },
  "language_info": {
   "codemirror_mode": {
    "name": "ipython",
    "version": 3
   },
   "file_extension": ".py",
   "mimetype": "text/x-python",
   "name": "python",
   "nbconvert_exporter": "python",
   "pygments_lexer": "ipython3",
   "version": "3.7.11"
  }
 },
 "nbformat": 4,
 "nbformat_minor": 5
}
